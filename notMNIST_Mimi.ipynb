{
  "nbformat": 4,
  "nbformat_minor": 0,
  "metadata": {
    "colab": {
      "name": "notMNIST_Mimi.ipynb",
      "provenance": [],
      "collapsed_sections": []
    },
    "kernelspec": {
      "name": "python3",
      "display_name": "Python 3"
    }
  },
  "cells": [
    {
      "cell_type": "markdown",
      "metadata": {
        "id": "gNFnBo2p_V90",
        "colab_type": "text"
      },
      "source": [
        "### Import Dataset"
      ]
    },
    {
      "cell_type": "code",
      "metadata": {
        "id": "hnclVCITPyaq",
        "colab_type": "code",
        "outputId": "898ffbe1-62ce-47be-9771-646553aa15b0",
        "colab": {
          "base_uri": "https://localhost:8080/",
          "height": 171
        }
      },
      "source": [
        "# Update Keras for Compatibility with Tensorflow 2\n",
        "!pip install -U keras"
      ],
      "execution_count": 0,
      "outputs": [
        {
          "output_type": "stream",
          "text": [
            "Requirement already up-to-date: keras in /usr/local/lib/python3.6/dist-packages (2.3.1)\n",
            "Requirement already satisfied, skipping upgrade: six>=1.9.0 in /usr/local/lib/python3.6/dist-packages (from keras) (1.12.0)\n",
            "Requirement already satisfied, skipping upgrade: numpy>=1.9.1 in /usr/local/lib/python3.6/dist-packages (from keras) (1.18.2)\n",
            "Requirement already satisfied, skipping upgrade: scipy>=0.14 in /usr/local/lib/python3.6/dist-packages (from keras) (1.4.1)\n",
            "Requirement already satisfied, skipping upgrade: pyyaml in /usr/local/lib/python3.6/dist-packages (from keras) (3.13)\n",
            "Requirement already satisfied, skipping upgrade: h5py in /usr/local/lib/python3.6/dist-packages (from keras) (2.10.0)\n",
            "Requirement already satisfied, skipping upgrade: keras-applications>=1.0.6 in /usr/local/lib/python3.6/dist-packages (from keras) (1.0.8)\n",
            "Requirement already satisfied, skipping upgrade: keras-preprocessing>=1.0.5 in /usr/local/lib/python3.6/dist-packages (from keras) (1.1.0)\n"
          ],
          "name": "stdout"
        }
      ]
    },
    {
      "cell_type": "code",
      "metadata": {
        "id": "wlcWkGDC_VYz",
        "colab_type": "code",
        "outputId": "39c981b9-70e4-480f-d49f-90654d2d001c",
        "colab": {
          "base_uri": "https://localhost:8080/",
          "height": 34
        }
      },
      "source": [
        "# Clone repository for converting to MNIST format\n",
        "!git clone https://github.com/davidflanagan/notMNIST-to-MNIST.git"
      ],
      "execution_count": 0,
      "outputs": [
        {
          "output_type": "stream",
          "text": [
            "fatal: destination path 'notMNIST-to-MNIST' already exists and is not an empty directory.\n"
          ],
          "name": "stdout"
        }
      ]
    },
    {
      "cell_type": "code",
      "metadata": {
        "id": "fqEPbk31QCcl",
        "colab_type": "code",
        "outputId": "b3588107-d792-4303-ff15-3e1bda37c638",
        "colab": {
          "base_uri": "https://localhost:8080/",
          "height": 34
        }
      },
      "source": [
        "# Open cloned folder\n",
        "cd notMNIST-to-MNIST"
      ],
      "execution_count": 0,
      "outputs": [
        {
          "output_type": "stream",
          "text": [
            "/content/notMNIST-to-MNIST\n"
          ],
          "name": "stdout"
        }
      ]
    },
    {
      "cell_type": "code",
      "metadata": {
        "id": "zY8PJm-O_QfD",
        "colab_type": "code",
        "outputId": "812467c5-58f5-44c7-b9f0-2fa21be5b31d",
        "colab": {
          "base_uri": "https://localhost:8080/",
          "height": 202
        }
      },
      "source": [
        "# Download dataset\n",
        "!wget http://yaroslavvb.com/upload/notMNIST/notMNIST_small.tar.gz"
      ],
      "execution_count": 0,
      "outputs": [
        {
          "output_type": "stream",
          "text": [
            "--2020-04-07 15:25:55--  http://yaroslavvb.com/upload/notMNIST/notMNIST_small.tar.gz\n",
            "Resolving yaroslavvb.com (yaroslavvb.com)... 129.121.4.193\n",
            "Connecting to yaroslavvb.com (yaroslavvb.com)|129.121.4.193|:80... connected.\n",
            "HTTP request sent, awaiting response... 200 OK\n",
            "Length: 8458043 (8.1M) [application/x-gzip]\n",
            "Saving to: ‘notMNIST_small.tar.gz’\n",
            "\n",
            "\rnotMNIST_small.tar.   0%[                    ]       0  --.-KB/s               \rnotMNIST_small.tar.  41%[=======>            ]   3.35M  16.7MB/s               \rnotMNIST_small.tar. 100%[===================>]   8.07M  33.1MB/s    in 0.2s    \n",
            "\n",
            "2020-04-07 15:25:55 (33.1 MB/s) - ‘notMNIST_small.tar.gz’ saved [8458043/8458043]\n",
            "\n"
          ],
          "name": "stdout"
        }
      ]
    },
    {
      "cell_type": "code",
      "metadata": {
        "id": "8nZf3FMJAO1T",
        "colab_type": "code",
        "colab": {}
      },
      "source": [
        "# Unpack dataset\n",
        "!tar -xf notMNIST_small.tar.gz"
      ],
      "execution_count": 0,
      "outputs": []
    },
    {
      "cell_type": "code",
      "metadata": {
        "id": "Z7_zM6ONAWRm",
        "colab_type": "code",
        "outputId": "1127989e-bad8-4bbf-975b-bc035a124ca4",
        "colab": {
          "base_uri": "https://localhost:8080/",
          "height": 84
        }
      },
      "source": [
        "ls"
      ],
      "execution_count": 0,
      "outputs": [
        {
          "output_type": "stream",
          "text": [
            "convert_to_mnist_format.py  notMNIST_large.tar.gz  t10k-images-idx3-ubyte.gz\n",
            "\u001b[0m\u001b[01;34mdata\u001b[0m/                       \u001b[01;34mnotMNIST_small\u001b[0m/        t10k-labels-idx1-ubyte.gz\n",
            "LICENSE                     notMNIST_small.tar.gz  train-images-idx3-ubyte.gz\n",
            "\u001b[01;34mnotMNIST_large\u001b[0m/             README.md              train-labels-idx1-ubyte.gz\n"
          ],
          "name": "stdout"
        }
      ]
    },
    {
      "cell_type": "code",
      "metadata": {
        "id": "V3vb9navDO-_",
        "colab_type": "code",
        "outputId": "b7d2ab5a-30f8-4d19-db9d-259e6f3e685e",
        "colab": {
          "base_uri": "https://localhost:8080/",
          "height": 34
        }
      },
      "source": [
        "ls data/"
      ],
      "execution_count": 0,
      "outputs": [
        {
          "output_type": "stream",
          "text": [
            "ls: cannot access 'data/': No such file or directory\n"
          ],
          "name": "stdout"
        }
      ]
    },
    {
      "cell_type": "code",
      "metadata": {
        "id": "prpibOxdB8o8",
        "colab_type": "code",
        "outputId": "331a45ef-a8da-458d-ea07-731890723c0f",
        "colab": {
          "base_uri": "https://localhost:8080/",
          "height": 34
        }
      },
      "source": [
        "!python convert_to_mnist_format.py notMNIST_small 1000 data/t10k-labels-idx1-uyte data/t10k-images-idx3-ubyte"
      ],
      "execution_count": 0,
      "outputs": [
        {
          "output_type": "stream",
          "text": [
            "python3: can't open file 'convert_to_mnist_format.py': [Errno 2] No such file or directory\n"
          ],
          "name": "stdout"
        }
      ]
    },
    {
      "cell_type": "markdown",
      "metadata": {
        "id": "cyLNg_ZgKktV",
        "colab_type": "text"
      },
      "source": [
        "### Create Int to Label List"
      ]
    },
    {
      "cell_type": "code",
      "metadata": {
        "id": "wHl-aZZ6KtJ7",
        "colab_type": "code",
        "colab": {}
      },
      "source": [
        "int_to_label = ['A', 'B', 'C', 'D', 'E', 'F', 'G', 'H', 'I', 'J']"
      ],
      "execution_count": 0,
      "outputs": []
    },
    {
      "cell_type": "code",
      "metadata": {
        "id": "LfamYfYlK6tI",
        "colab_type": "code",
        "outputId": "874fd4c5-1208-4272-802a-76e8a59ee634",
        "colab": {
          "base_uri": "https://localhost:8080/",
          "height": 34
        }
      },
      "source": [
        "int_to_label[9]"
      ],
      "execution_count": 0,
      "outputs": [
        {
          "output_type": "execute_result",
          "data": {
            "text/plain": [
              "'J'"
            ]
          },
          "metadata": {
            "tags": []
          },
          "execution_count": 15
        }
      ]
    },
    {
      "cell_type": "markdown",
      "metadata": {
        "id": "edf7Utq2D59T",
        "colab_type": "text"
      },
      "source": [
        "### Import and Visualize Data"
      ]
    },
    {
      "cell_type": "code",
      "metadata": {
        "id": "cLdHRBPjDKlv",
        "colab_type": "code",
        "colab": {}
      },
      "source": [
        "from mlxtend.data import loadlocal_mnist"
      ],
      "execution_count": 0,
      "outputs": []
    },
    {
      "cell_type": "code",
      "metadata": {
        "id": "xfqvxaEJFfJD",
        "colab_type": "code",
        "colab": {}
      },
      "source": [
        "X, y = loadlocal_mnist(\n",
        "        images_path='./data/t10k-images-idx3-ubyte', \n",
        "        labels_path='./data/t10k-labels-idx1-uyte')"
      ],
      "execution_count": 0,
      "outputs": []
    },
    {
      "cell_type": "code",
      "metadata": {
        "id": "Pf4iV8krFvpj",
        "colab_type": "code",
        "outputId": "b1d26b0a-0992-4241-fd4f-e3b76e3b7622",
        "colab": {
          "base_uri": "https://localhost:8080/",
          "height": 34
        }
      },
      "source": [
        "X[0].shape"
      ],
      "execution_count": 0,
      "outputs": [
        {
          "output_type": "execute_result",
          "data": {
            "text/plain": [
              "(784,)"
            ]
          },
          "metadata": {
            "tags": []
          },
          "execution_count": 18
        }
      ]
    },
    {
      "cell_type": "code",
      "metadata": {
        "id": "opTUvpZ6Fx3q",
        "colab_type": "code",
        "outputId": "6f1e4317-27ff-4d23-8f16-65a5041c75b6",
        "colab": {
          "base_uri": "https://localhost:8080/",
          "height": 281
        }
      },
      "source": [
        "import matplotlib.pyplot as plt\n",
        "\n",
        "# Index to be visualized\n",
        "IDX = 3\n",
        "img = X[IDX].reshape(28,28)\n",
        "plt.imshow(img, cmap='gray')\n",
        "plt.title(\"Label: {}\".format(y[IDX]))\n",
        "plt.show()"
      ],
      "execution_count": 0,
      "outputs": [
        {
          "output_type": "display_data",
          "data": {
            "image/png": "[encoded data removed]",
            "text/plain": [
              "<Figure size 432x288 with 1 Axes>"
            ]
          },
          "metadata": {
            "tags": []
          }
        }
      ]
    },
    {
      "cell_type": "code",
      "metadata": {
        "id": "OtQH4mV1F0Vs",
        "colab_type": "code",
        "outputId": "615e6d75-142a-4b28-e96c-53c55730df74",
        "colab": {
          "base_uri": "https://localhost:8080/",
          "height": 34
        }
      },
      "source": [
        "y.min()"
      ],
      "execution_count": 0,
      "outputs": [
        {
          "output_type": "execute_result",
          "data": {
            "text/plain": [
              "0"
            ]
          },
          "metadata": {
            "tags": []
          },
          "execution_count": 20
        }
      ]
    },
    {
      "cell_type": "code",
      "metadata": {
        "id": "_OCRmpBxHqcD",
        "colab_type": "code",
        "outputId": "4c61e1d2-6641-455b-d56d-00c206ad7a01",
        "colab": {
          "base_uri": "https://localhost:8080/",
          "height": 34
        }
      },
      "source": [
        "y.max()"
      ],
      "execution_count": 0,
      "outputs": [
        {
          "output_type": "execute_result",
          "data": {
            "text/plain": [
              "9"
            ]
          },
          "metadata": {
            "tags": []
          },
          "execution_count": 21
        }
      ]
    },
    {
      "cell_type": "markdown",
      "metadata": {
        "id": "BY9_mcMnH29K",
        "colab_type": "text"
      },
      "source": [
        "### Train/Test Split"
      ]
    },
    {
      "cell_type": "code",
      "metadata": {
        "id": "7WsNZDZxHr3O",
        "colab_type": "code",
        "colab": {}
      },
      "source": [
        "from sklearn.model_selection import train_test_split"
      ],
      "execution_count": 0,
      "outputs": []
    },
    {
      "cell_type": "code",
      "metadata": {
        "id": "kZjAw3zWI5MR",
        "colab_type": "code",
        "colab": {}
      },
      "source": [
        "X_train, X_test, y_train, y_test = train_test_split(X, y, \n",
        "                                                    test_size=0.25,\n",
        "                                                    random_state=0)"
      ],
      "execution_count": 0,
      "outputs": []
    },
    {
      "cell_type": "markdown",
      "metadata": {
        "id": "TaDA5ZafJeSV",
        "colab_type": "text"
      },
      "source": [
        "### Train Model"
      ]
    },
    {
      "cell_type": "code",
      "metadata": {
        "id": "q6RvxW5ZJdxR",
        "colab_type": "code",
        "colab": {}
      },
      "source": [
        "from sklearn.linear_model import LogisticRegression"
      ],
      "execution_count": 0,
      "outputs": []
    },
    {
      "cell_type": "code",
      "metadata": {
        "id": "wN2TsE3HI9ZJ",
        "colab_type": "code",
        "colab": {}
      },
      "source": [
        "clf = LogisticRegression(random_state=0)"
      ],
      "execution_count": 0,
      "outputs": []
    },
    {
      "cell_type": "code",
      "metadata": {
        "id": "x0bEt8SXJofI",
        "colab_type": "code",
        "outputId": "502e5047-8022-4949-8d22-be9b1748fd7b",
        "colab": {
          "base_uri": "https://localhost:8080/",
          "height": 255
        }
      },
      "source": [
        "clf.fit(X_train, y_train)"
      ],
      "execution_count": 0,
      "outputs": [
        {
          "output_type": "stream",
          "text": [
            "/usr/local/lib/python3.6/dist-packages/sklearn/linear_model/_logistic.py:940: ConvergenceWarning: lbfgs failed to converge (status=1):\n",
            "STOP: TOTAL NO. of ITERATIONS REACHED LIMIT.\n",
            "\n",
            "Increase the number of iterations (max_iter) or scale the data as shown in:\n",
            "    https://scikit-learn.org/stable/modules/preprocessing.html\n",
            "Please also refer to the documentation for alternative solver options:\n",
            "    https://scikit-learn.org/stable/modules/linear_model.html#logistic-regression\n",
            "  extra_warning_msg=_LOGISTIC_SOLVER_CONVERGENCE_MSG)\n"
          ],
          "name": "stderr"
        },
        {
          "output_type": "execute_result",
          "data": {
            "text/plain": [
              "LogisticRegression(C=1.0, class_weight=None, dual=False, fit_intercept=True,\n",
              "                   intercept_scaling=1, l1_ratio=None, max_iter=100,\n",
              "                   multi_class='auto', n_jobs=None, penalty='l2',\n",
              "                   random_state=0, solver='lbfgs', tol=0.0001, verbose=0,\n",
              "                   warm_start=False)"
            ]
          },
          "metadata": {
            "tags": []
          },
          "execution_count": 26
        }
      ]
    },
    {
      "cell_type": "code",
      "metadata": {
        "id": "K6s4lZ2DJtba",
        "colab_type": "code",
        "outputId": "883f778f-e2b5-4ea4-8a54-4547388f5806",
        "colab": {
          "base_uri": "https://localhost:8080/",
          "height": 281
        }
      },
      "source": [
        "IDX = 12\n",
        "img = X_test[IDX].reshape(28,28)\n",
        "plt.imshow(img, cmap='gray')\n",
        "true_label = int_to_label[y_test[IDX]]\n",
        "pred_label = int_to_label[clf.predict([X_test[IDX]])[0]]\n",
        "plt.title(\"True Label: {} Prediction {}\".format(true_label, pred_label))\n",
        "plt.show()"
      ],
      "execution_count": 0,
      "outputs": [
        {
          "output_type": "display_data",
          "data": {
            "image/png": "[encoded data removed]",
            "text/plain": [
              "<Figure size 432x288 with 1 Axes>"
            ]
          },
          "metadata": {
            "tags": []
          }
        }
      ]
    },
    {
      "cell_type": "markdown",
      "metadata": {
        "id": "76zTNJhELkYi",
        "colab_type": "text"
      },
      "source": [
        "### Evaluate Model"
      ]
    },
    {
      "cell_type": "code",
      "metadata": {
        "id": "Pbpue-7cJ12S",
        "colab_type": "code",
        "colab": {}
      },
      "source": [
        "from sklearn.metrics import accuracy_score"
      ],
      "execution_count": 0,
      "outputs": []
    },
    {
      "cell_type": "code",
      "metadata": {
        "id": "X0y0esf8KJxy",
        "colab_type": "code",
        "outputId": "f7fb6afa-2e3e-4eea-d450-32d97b657771",
        "colab": {
          "base_uri": "https://localhost:8080/",
          "height": 34
        }
      },
      "source": [
        "y_pred = clf.predict(X_test); y_pred"
      ],
      "execution_count": 0,
      "outputs": [
        {
          "output_type": "execute_result",
          "data": {
            "text/plain": [
              "array([0, 9, 2, ..., 3, 6, 2], dtype=uint8)"
            ]
          },
          "metadata": {
            "tags": []
          },
          "execution_count": 29
        }
      ]
    },
    {
      "cell_type": "code",
      "metadata": {
        "id": "Nty42SVWLsuD",
        "colab_type": "code",
        "outputId": "2a3f8dac-1f2c-43d3-9a37-7ea2dcf62dcd",
        "colab": {
          "base_uri": "https://localhost:8080/",
          "height": 34
        }
      },
      "source": [
        "y_test"
      ],
      "execution_count": 0,
      "outputs": [
        {
          "output_type": "execute_result",
          "data": {
            "text/plain": [
              "array([0, 9, 2, ..., 3, 6, 2], dtype=uint8)"
            ]
          },
          "metadata": {
            "tags": []
          },
          "execution_count": 30
        }
      ]
    },
    {
      "cell_type": "code",
      "metadata": {
        "id": "bv11nAiaMaOp",
        "colab_type": "code",
        "colab": {}
      },
      "source": [
        "y_pred_train = clf.predict(X_train)"
      ],
      "execution_count": 0,
      "outputs": []
    },
    {
      "cell_type": "code",
      "metadata": {
        "id": "h4nynfIJL0k8",
        "colab_type": "code",
        "outputId": "8118d09b-74e3-4a01-ed80-b8eaa338f36f",
        "colab": {
          "base_uri": "https://localhost:8080/",
          "height": 50
        }
      },
      "source": [
        "acc_train = accuracy_score(y_train, y_pred_train)\n",
        "acc_test = accuracy_score(y_test, y_pred)\n",
        "print(f'Accuracy in the Training set {acc_train*100:.2f}%')\n",
        "print(f'Accuracy in the Test set {acc_test*100:.2f}%')"
      ],
      "execution_count": 0,
      "outputs": [
        {
          "output_type": "stream",
          "text": [
            "Accuracy in the Training set 96.63%\n",
            "Accuracy in the Test set 85.44%\n"
          ],
          "name": "stdout"
        }
      ]
    },
    {
      "cell_type": "code",
      "metadata": {
        "id": "FAGmDmFFMBTA",
        "colab_type": "code",
        "outputId": "9cdeb48f-c5a2-4a99-814c-f755031be413",
        "colab": {
          "base_uri": "https://localhost:8080/",
          "height": 188
        }
      },
      "source": [
        "# Summarizing in 3 lines of code\n",
        "clf = LogisticRegression(random_state=0)\n",
        "clf.fit(X_train, y_train)\n",
        "clf.score(X_test, y_test)"
      ],
      "execution_count": 0,
      "outputs": [
        {
          "output_type": "stream",
          "text": [
            "/usr/local/lib/python3.6/dist-packages/sklearn/linear_model/_logistic.py:940: ConvergenceWarning: lbfgs failed to converge (status=1):\n",
            "STOP: TOTAL NO. of ITERATIONS REACHED LIMIT.\n",
            "\n",
            "Increase the number of iterations (max_iter) or scale the data as shown in:\n",
            "    https://scikit-learn.org/stable/modules/preprocessing.html\n",
            "Please also refer to the documentation for alternative solver options:\n",
            "    https://scikit-learn.org/stable/modules/linear_model.html#logistic-regression\n",
            "  extra_warning_msg=_LOGISTIC_SOLVER_CONVERGENCE_MSG)\n"
          ],
          "name": "stderr"
        },
        {
          "output_type": "execute_result",
          "data": {
            "text/plain": [
              "0.8544"
            ]
          },
          "metadata": {
            "tags": []
          },
          "execution_count": 33
        }
      ]
    },
    {
      "cell_type": "markdown",
      "metadata": {
        "id": "BB6gsW0zNGWm",
        "colab_type": "text"
      },
      "source": [
        "### Keras"
      ]
    },
    {
      "cell_type": "code",
      "metadata": {
        "id": "ouaUHZjOMtF2",
        "colab_type": "code",
        "outputId": "c6f22e5b-7cae-43a3-9b72-3684e7c08fff",
        "colab": {
          "base_uri": "https://localhost:8080/",
          "height": 34
        }
      },
      "source": [
        "from keras.models import Sequential\n",
        "from keras.layers import Dense"
      ],
      "execution_count": 0,
      "outputs": [
        {
          "output_type": "stream",
          "text": [
            "Using TensorFlow backend.\n"
          ],
          "name": "stderr"
        }
      ]
    },
    {
      "cell_type": "code",
      "metadata": {
        "id": "TprleCAHNm8L",
        "colab_type": "code",
        "colab": {}
      },
      "source": [
        "model = Sequential([\n",
        "                    Dense(units=10, activation='softmax', input_shape=(X_train.shape[1],))\n",
        "])"
      ],
      "execution_count": 0,
      "outputs": []
    },
    {
      "cell_type": "code",
      "metadata": {
        "id": "DM8kIWP8QtwN",
        "colab_type": "code",
        "colab": {}
      },
      "source": [
        "model.compile(optimizer='adam', loss='sparse_categorical_crossentropy')"
      ],
      "execution_count": 0,
      "outputs": []
    },
    {
      "cell_type": "code",
      "metadata": {
        "id": "lYVEFob2QZ03",
        "colab_type": "code",
        "outputId": "3d7f7c14-4352-41fb-b865-bb0611b607f9",
        "colab": {
          "base_uri": "https://localhost:8080/",
          "height": 706
        }
      },
      "source": [
        "model.fit(X_train, y_train, epochs=20)"
      ],
      "execution_count": 0,
      "outputs": [
        {
          "output_type": "stream",
          "text": [
            "Epoch 1/20\n",
            "7500/7500 [==============================] - 0s 40us/step - loss: 20.4463\n",
            "Epoch 2/20\n",
            "7500/7500 [==============================] - 0s 37us/step - loss: 18.7112\n",
            "Epoch 3/20\n",
            "7500/7500 [==============================] - 0s 37us/step - loss: 16.2296\n",
            "Epoch 4/20\n",
            "7500/7500 [==============================] - 0s 40us/step - loss: 15.1457\n",
            "Epoch 5/20\n",
            "7500/7500 [==============================] - 0s 36us/step - loss: 15.4240\n",
            "Epoch 6/20\n",
            "7500/7500 [==============================] - 0s 36us/step - loss: 14.2016\n",
            "Epoch 7/20\n",
            "7500/7500 [==============================] - 0s 36us/step - loss: 12.8418\n",
            "Epoch 8/20\n",
            "7500/7500 [==============================] - 0s 35us/step - loss: 13.5334\n",
            "Epoch 9/20\n",
            "7500/7500 [==============================] - 0s 36us/step - loss: 12.3828\n",
            "Epoch 10/20\n",
            "7500/7500 [==============================] - 0s 37us/step - loss: 11.0913\n",
            "Epoch 11/20\n",
            "7500/7500 [==============================] - 0s 35us/step - loss: 11.8708\n",
            "Epoch 12/20\n",
            "7500/7500 [==============================] - 0s 36us/step - loss: 10.3149\n",
            "Epoch 13/20\n",
            "7500/7500 [==============================] - 0s 37us/step - loss: 10.0089\n",
            "Epoch 14/20\n",
            "7500/7500 [==============================] - 0s 35us/step - loss: 10.6096\n",
            "Epoch 15/20\n",
            "7500/7500 [==============================] - 0s 35us/step - loss: 10.4895\n",
            "Epoch 16/20\n",
            "7500/7500 [==============================] - 0s 36us/step - loss: 10.1824\n",
            "Epoch 17/20\n",
            "7500/7500 [==============================] - 0s 38us/step - loss: 9.7504\n",
            "Epoch 18/20\n",
            "7500/7500 [==============================] - 0s 35us/step - loss: 9.0550\n",
            "Epoch 19/20\n",
            "7500/7500 [==============================] - 0s 34us/step - loss: 8.8043\n",
            "Epoch 20/20\n",
            "7500/7500 [==============================] - 0s 37us/step - loss: 10.1691\n"
          ],
          "name": "stdout"
        },
        {
          "output_type": "execute_result",
          "data": {
            "text/plain": [
              "<keras.callbacks.callbacks.History at 0x7f6311f9ee80>"
            ]
          },
          "metadata": {
            "tags": []
          },
          "execution_count": 43
        }
      ]
    },
    {
      "cell_type": "code",
      "metadata": {
        "id": "8igOKgK8Qoop",
        "colab_type": "code",
        "colab": {}
      },
      "source": [
        "y_pred = model.predict_classes(X_test)"
      ],
      "execution_count": 0,
      "outputs": []
    },
    {
      "cell_type": "code",
      "metadata": {
        "id": "xVB-zCZ7R74h",
        "colab_type": "code",
        "outputId": "9bb84a41-d603-4ad9-f580-c9ee691f0047",
        "colab": {
          "base_uri": "https://localhost:8080/",
          "height": 34
        }
      },
      "source": [
        "acc_test = accuracy_score(y_test, y_pred)\n",
        "print(f'Accuracy in the Test set {acc_test*100:.2f}%')"
      ],
      "execution_count": 0,
      "outputs": [
        {
          "output_type": "stream",
          "text": [
            "Accuracy in the Test set 84.20%\n"
          ],
          "name": "stdout"
        }
      ]
    },
    {
      "cell_type": "code",
      "metadata": {
        "id": "rxjtZEzBSOH1",
        "colab_type": "code",
        "colab": {}
      },
      "source": [
        ""
      ],
      "execution_count": 0,
      "outputs": []
    }
  ]
}